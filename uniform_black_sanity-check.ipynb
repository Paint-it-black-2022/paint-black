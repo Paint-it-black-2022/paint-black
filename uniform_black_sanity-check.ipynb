{
 "cells": [
  {
   "cell_type": "code",
   "execution_count": 1,
   "id": "867a495e-f995-4725-8086-d273ceee09dd",
   "metadata": {},
   "outputs": [],
   "source": [
    "import pandas as pd\n",
    "import blocksci\n",
    "import numpy as np\n",
    "import zarr\n",
    "import networkx as nx\n",
    "\n",
    "DIR_PARSED=\"/mnt/hdd_data/blockchain_parsed/\"\n",
    "cfg_file = f\"/mnt/hdd_data/blockchain_parsed/bitcoin.cfg\" # later\n",
    "chain = blocksci.Blockchain(cfg_file)"
   ]
  },
  {
   "cell_type": "markdown",
   "id": "26d941e8-7160-4bdc-a501-59aa986c72b3",
   "metadata": {},
   "source": [
    "# scope\n",
    "this notebook goal is to replicate some results from `paint-it-black` as a sanity check.\n",
    "the original paper analysed form block 1 to block 400.000"
   ]
  },
  {
   "cell_type": "markdown",
   "id": "bf7674a7-7dab-416a-90fe-e1bf1d969d24",
   "metadata": {},
   "source": [
    "# 1: Number of addresses per darknet\n",
    "here we want to replicate table 1 from `pait-it-black`: \n",
    "measure the number of addresses for each entity"
   ]
  },
  {
   "cell_type": "code",
   "execution_count": 2,
   "id": "455032c9-773f-48df-9848-249eeef73962",
   "metadata": {},
   "outputs": [],
   "source": [
    "df = pd.read_csv(f\"/home/nvalla/paint-black/uniform_black/heur_2_data/ground_truth_clust_id.csv\")"
   ]
  },
  {
   "cell_type": "code",
   "execution_count": 3,
   "id": "e05bcb36-f039-4a13-809f-2c101973a01b",
   "metadata": {},
   "outputs": [],
   "source": [
    "entities_c = df['entity'].value_counts()"
   ]
  },
  {
   "cell_type": "code",
   "execution_count": 4,
   "id": "33ea95e9-d153-4c76-bac6-95d180c63f58",
   "metadata": {},
   "outputs": [
    {
     "name": "stdout",
     "output_type": "stream",
     "text": [
      "EvolutionMarket           419915\n",
      "SilkRoadMarketplace       372553\n",
      "SilkRoad2Market           349836\n",
      "AlphaBayMarket            196827\n",
      "NucleusMarket             146281\n",
      "AbraxasMarket             119065\n",
      "PandoraOpenMarket          55357\n",
      "SheepMarketplace           53639\n",
      "BlackBankMarket            50878\n",
      "MiddleEarthMarketplace     34049\n",
      "BlueSkyMarketplace         18897\n",
      "CannabisRoadMarket          2829\n",
      "BabylonMarket               1471\n",
      "GreenRoadMarket              965\n",
      "Name: entity, dtype: int64\n"
     ]
    }
   ],
   "source": [
    "print(entities_c)"
   ]
  },
  {
   "cell_type": "markdown",
   "id": "d114c5f3-b0ba-4d7c-9a61-1ed54e034118",
   "metadata": {},
   "source": [
    "The number of addresses per entity is close enough to table 1 from []."
   ]
  },
  {
   "cell_type": "markdown",
   "id": "96e5aad5-2387-48d1-b89e-972e001b3bbe",
   "metadata": {},
   "source": [
    "# 2: Number of input and output transactions per darkent\n",
    "here we replicate table 2 from `paint-it-black`:\n",
    "Table showing the number of transactions received\n",
    "and transactions sent from and to each of the 14 darknets."
   ]
  },
  {
   "cell_type": "code",
   "execution_count": null,
   "id": "ec2f0097-a5d0-4cba-965f-ec79cbe719c1",
   "metadata": {},
   "outputs": [],
   "source": [
    "l = [(chain.address_from_string(a).input_txes_count(), chain.address_from_string(a).output_txes_count()) for a in df.address]"
   ]
  },
  {
   "cell_type": "markdown",
   "id": "6f144b44-b5e5-4b27-8e4e-b6aa23c7b2b7",
   "metadata": {},
   "source": [
    "_this method doesnt work: may be counting transactions more than once(if two different address are in the same transaction) per entity. Table 2 caption is not clear enough._"
   ]
  },
  {
   "cell_type": "code",
   "execution_count": null,
   "id": "7a1fbb42-3c9b-4b57-a9f0-913042016947",
   "metadata": {},
   "outputs": [],
   "source": [
    "df[\"input_txes_count\"] = [a[0] for a in l]\n",
    "df[\"output_txes_count\"] = [a[1] for a in l]"
   ]
  },
  {
   "cell_type": "code",
   "execution_count": null,
   "id": "99dbc1f7-5034-4de3-b036-470e6edea12f",
   "metadata": {},
   "outputs": [],
   "source": [
    "df.groupby(['entity'])[\"input_txes_count\"].sum()"
   ]
  },
  {
   "cell_type": "code",
   "execution_count": null,
   "id": "f12d54e3-76e3-492d-97dd-3cc127c42a2a",
   "metadata": {},
   "outputs": [],
   "source": [
    "df.groupby(['entity'])[\"output_txes_count\"].sum()"
   ]
  },
  {
   "cell_type": "markdown",
   "id": "85024567-5e72-464c-8714-9ccbf29e35cc",
   "metadata": {},
   "source": [
    "# 3:\n",
    "table 3 from paint-it-black"
   ]
  },
  {
   "cell_type": "code",
   "execution_count": 2,
   "id": "4a3f9614-710e-42dc-bb34-14840b6a8611",
   "metadata": {},
   "outputs": [],
   "source": [
    "df1 = pd.read_csv(f\"/home/nvalla/paint-black/uniform_black/heur_1_data/ground_truth_clust_id.csv\")"
   ]
  },
  {
   "cell_type": "code",
   "execution_count": 21,
   "id": "30da5408-c007-42fe-9d60-9ab35f28efe7",
   "metadata": {},
   "outputs": [],
   "source": [
    "a = df1.groupby(['entity'])[\"cluster_id\"].nunique()"
   ]
  },
  {
   "cell_type": "code",
   "execution_count": 22,
   "id": "8ea7ca21-ed13-4162-b802-c6a4de179d0c",
   "metadata": {},
   "outputs": [
    {
     "data": {
      "text/plain": [
       "entity\n",
       "AbraxasMarket              81685\n",
       "AlphaBayMarket            117659\n",
       "BabylonMarket               1153\n",
       "BlackBankMarket            36022\n",
       "BlueSkyMarketplace         13336\n",
       "CannabisRoadMarket          2053\n",
       "EvolutionMarket           284173\n",
       "GreenRoadMarket              811\n",
       "MiddleEarthMarketplace     25733\n",
       "NucleusMarket             112226\n",
       "PandoraOpenMarket          39257\n",
       "SheepMarketplace           35125\n",
       "SilkRoad2Market           219536\n",
       "SilkRoadMarketplace       252664\n",
       "Name: cluster_id, dtype: int64"
      ]
     },
     "execution_count": 22,
     "metadata": {},
     "output_type": "execute_result"
    }
   ],
   "source": [
    "a"
   ]
  },
  {
   "cell_type": "markdown",
   "id": "33e30531-80e9-4e4e-be56-b242d4dfff80",
   "metadata": {},
   "source": [
    "# 4:\n",
    "table 4 from paint-it-black"
   ]
  },
  {
   "cell_type": "code",
   "execution_count": 26,
   "id": "e549d940-3ad7-4f4f-9b31-7f3989ba44e0",
   "metadata": {},
   "outputs": [],
   "source": [
    "df2 = pd.read_csv(f\"/home/nvalla/paint-black/uniform_black/heur_2_data/ground_truth_clust_id.csv\")"
   ]
  },
  {
   "cell_type": "code",
   "execution_count": 27,
   "id": "7a9d6549-a4b7-4323-8e76-c03c37e187fe",
   "metadata": {},
   "outputs": [],
   "source": [
    "b = df2.groupby(['entity'])[\"cluster_id\"].nunique()"
   ]
  },
  {
   "cell_type": "code",
   "execution_count": 28,
   "id": "7eb902d6-95c2-4ed1-9799-0a54d62628b3",
   "metadata": {},
   "outputs": [
    {
     "data": {
      "text/plain": [
       "entity\n",
       "AbraxasMarket              71421\n",
       "AlphaBayMarket            103288\n",
       "BabylonMarket                908\n",
       "BlackBankMarket            31255\n",
       "BlueSkyMarketplace         10640\n",
       "CannabisRoadMarket          1585\n",
       "EvolutionMarket           253379\n",
       "GreenRoadMarket              635\n",
       "MiddleEarthMarketplace     22508\n",
       "NucleusMarket              99026\n",
       "PandoraOpenMarket          33484\n",
       "SheepMarketplace           31154\n",
       "SilkRoad2Market           193932\n",
       "SilkRoadMarketplace       229203\n",
       "Name: cluster_id, dtype: int64"
      ]
     },
     "execution_count": 28,
     "metadata": {},
     "output_type": "execute_result"
    }
   ],
   "source": [
    "b"
   ]
  },
  {
   "cell_type": "markdown",
   "id": "a2c971bc-4eed-47b3-b7d5-42743bce984f",
   "metadata": {},
   "source": [
    "# number of clusters \n",
    "number of clusters black from the ground truth"
   ]
  },
  {
   "cell_type": "code",
   "execution_count": 2,
   "id": "0b71d1a6-e768-4083-bec6-a0668197a181",
   "metadata": {},
   "outputs": [
    {
     "name": "stdout",
     "output_type": "stream",
     "text": [
      "119\n"
     ]
    }
   ],
   "source": [
    "clust_is_black = zarr.load(\"uniform_black/heur_2_data/cluster_is_black_ground_truth.zarr\")\n",
    "print(clust_is_black.sum())"
   ]
  },
  {
   "cell_type": "code",
   "execution_count": 3,
   "id": "f2a050f3-4204-4022-a77a-a77f39a95b17",
   "metadata": {},
   "outputs": [],
   "source": [
    "clust_is_black_when = zarr.load(\"uniform_black/heur_2_data/cluster_is_black_final_day.zarr\")"
   ]
  },
  {
   "cell_type": "code",
   "execution_count": 2,
   "id": "c0d11c26-f8da-4845-92be-b183c947b377",
   "metadata": {},
   "outputs": [],
   "source": [
    "df = pd.read_csv(\"uniform_black/heur_2_data/diffusion_net_day.csv\")"
   ]
  },
  {
   "cell_type": "code",
   "execution_count": 7,
   "id": "6c06e710-74d8-4dd4-b6db-ba1161a5aa5f",
   "metadata": {},
   "outputs": [],
   "source": [
    "cm = blocksci.cluster.ClusterManager(DIR_PARSED + \"bitcoin/heur_2/\", chain)"
   ]
  },
  {
   "cell_type": "code",
   "execution_count": 24,
   "id": "ec1c7860-dc54-41e7-a8fd-ed70ce4abae7",
   "metadata": {},
   "outputs": [],
   "source": [
    "add = chain.address_from_string(\"17DEJSAMHsTtsxZA1v6yu51xVwtFJ5ECfp\")\n",
    "clu = cm.cluster_with_address(add)  # cluster index 5\n",
    "\n",
    "blocks = []\n",
    "for t in add.input_txes:\n",
    "    blocks.append(t.block_height)\n",
    "    \n",
    "b = chain.blocks[blocks[0]]\n",
    "print(b.time)\n",
    "date = '2015-08-26'"
   ]
  },
  {
   "cell_type": "code",
   "execution_count": 25,
   "id": "8678cace-b5d8-4670-9bc0-c61317596d54",
   "metadata": {},
   "outputs": [],
   "source": [
    "g = nx.read_graphml(f'{DIR_PARSED}bitcoin/heur_2_networks_day/{date}.graphml.bz2')"
   ]
  },
  {
   "cell_type": "code",
   "execution_count": 27,
   "id": "a28a57c5-d6c0-48dc-92eb-903ce07740ff",
   "metadata": {},
   "outputs": [
    {
     "data": {
      "text/plain": [
       "True"
      ]
     },
     "execution_count": 27,
     "metadata": {},
     "output_type": "execute_result"
    }
   ],
   "source": [
    "'5' in g.nodes"
   ]
  },
  {
   "cell_type": "code",
   "execution_count": 30,
   "id": "0936de1d-6f21-4704-b7e3-2f2e2c11ca89",
   "metadata": {},
   "outputs": [
    {
     "data": {
      "text/html": [
       "<div>\n",
       "<style scoped>\n",
       "    .dataframe tbody tr th:only-of-type {\n",
       "        vertical-align: middle;\n",
       "    }\n",
       "\n",
       "    .dataframe tbody tr th {\n",
       "        vertical-align: top;\n",
       "    }\n",
       "\n",
       "    .dataframe thead th {\n",
       "        text-align: right;\n",
       "    }\n",
       "</style>\n",
       "<table border=\"1\" class=\"dataframe\">\n",
       "  <thead>\n",
       "    <tr style=\"text-align: right;\">\n",
       "      <th></th>\n",
       "      <th>date</th>\n",
       "      <th>no_old_black_user</th>\n",
       "      <th>no_new_black_user</th>\n",
       "      <th>no_active_black_user</th>\n",
       "      <th>no_cum_black_user</th>\n",
       "      <th>black2new_no_trx</th>\n",
       "      <th>black2new_value</th>\n",
       "      <th>black2new_no_link</th>\n",
       "      <th>black2black_no_trx</th>\n",
       "      <th>black2black_value</th>\n",
       "      <th>black2black_no_link</th>\n",
       "      <th>not_black_link</th>\n",
       "    </tr>\n",
       "  </thead>\n",
       "  <tbody>\n",
       "    <tr>\n",
       "      <th>2426</th>\n",
       "      <td>2015-08-26</td>\n",
       "      <td>0</td>\n",
       "      <td>0</td>\n",
       "      <td>0</td>\n",
       "      <td>0</td>\n",
       "      <td>0</td>\n",
       "      <td>0</td>\n",
       "      <td>0</td>\n",
       "      <td>0</td>\n",
       "      <td>0</td>\n",
       "      <td>0</td>\n",
       "      <td>170794</td>\n",
       "    </tr>\n",
       "  </tbody>\n",
       "</table>\n",
       "</div>"
      ],
      "text/plain": [
       "            date  no_old_black_user  no_new_black_user  no_active_black_user  \\\n",
       "2426  2015-08-26                  0                  0                     0   \n",
       "\n",
       "      no_cum_black_user  black2new_no_trx  black2new_value  black2new_no_link  \\\n",
       "2426                  0                 0                0                  0   \n",
       "\n",
       "      black2black_no_trx  black2black_value  black2black_no_link  \\\n",
       "2426                   0                  0                    0   \n",
       "\n",
       "      not_black_link  \n",
       "2426          170794  "
      ]
     },
     "execution_count": 30,
     "metadata": {},
     "output_type": "execute_result"
    }
   ],
   "source": [
    "df.loc[df.date == date]"
   ]
  },
  {
   "cell_type": "markdown",
   "id": "34aced6d-8ac6-43ed-ba53-0e9cb268c11a",
   "metadata": {},
   "source": [
    "# simulate ub_diffusion_net on one day network"
   ]
  },
  {
   "cell_type": "code",
   "execution_count": null,
   "id": "8be7fe19-0113-482f-b058-b3c5cef3f7e4",
   "metadata": {},
   "outputs": [],
   "source": [
    "g = nx.read_graphml(f'{DIR_PARSED}bitcoin/heur_2_networks_day/{date}.graphml.bz2')"
   ]
  },
  {
   "cell_type": "code",
   "execution_count": 54,
   "id": "a33e6ceb-8572-4e46-a5c2-753806d69b90",
   "metadata": {},
   "outputs": [],
   "source": [
    "clust_is_black_ground = zarr.load(f\"uniform_black/heur_2_data/cluster_is_black_ground_truth.zarr\")\n",
    "clust_is_black_ground_set = set([str(i) for i in range(len(clust_is_black_ground)) if clust_is_black_ground[i]])"
   ]
  },
  {
   "cell_type": "code",
   "execution_count": 75,
   "id": "61f57923-d55b-483a-9158-32f151d3481e",
   "metadata": {},
   "outputs": [
    {
     "name": "stdout",
     "output_type": "stream",
     "text": [
      "{'5'}\n"
     ]
    }
   ],
   "source": [
    "new_black_nodes = set([])\n",
    "old_black_nodes = clust_is_black_ground_set.intersection(g.nodes)\n",
    "print(old_black_nodes)\n",
    "clust_is_black_when = np.zeros(len(clust_is_black_ground), dtype=str)\n",
    "\n",
    "black2new_no_trx = 0\n",
    "black2new_value = 0\n",
    "black2new_link = 0\n",
    "black2black_no_trx = 0\n",
    "black2black_value = 0\n",
    "black2black_link = 0\n",
    "\n",
    "s = 0\n",
    "for black_node in old_black_nodes:\n",
    "    # check out-neighbours of black node\n",
    "    for e in g[black_node]:\n",
    "        # if not already black, track it\n",
    "        if e not in old_black_nodes:\n",
    "            new_black_nodes.update([e])\n",
    "            black2new_no_trx += g[black_node][e]['n_tx']\n",
    "            black2new_value += g[black_node][e]['value']\n",
    "            black2new_link += 1\n",
    "        else:\n",
    "            black2black_no_trx += g[black_node][e]['n_tx']\n",
    "            black2black_value += g[black_node][e]['value']\n",
    "            black2black_link += 1\n",
    "        if clust_is_black_when[int(e)] == '':\n",
    "            clust_is_black_when[int(e)] = date\n",
    "            s +=1\n"
   ]
  },
  {
   "cell_type": "code",
   "execution_count": 76,
   "id": "bfb7921c-d41e-45a3-ade4-7154580e9afd",
   "metadata": {},
   "outputs": [
    {
     "name": "stdout",
     "output_type": "stream",
     "text": [
      "26028\n"
     ]
    },
    {
     "data": {
      "text/plain": [
       "26028"
      ]
     },
     "execution_count": 76,
     "metadata": {},
     "output_type": "execute_result"
    }
   ],
   "source": [
    "print(s)\n",
    "np.count_nonzero(clust_is_black_when)"
   ]
  }
 ],
 "metadata": {
  "kernelspec": {
   "display_name": "Python 3",
   "language": "python",
   "name": "python3"
  },
  "language_info": {
   "codemirror_mode": {
    "name": "ipython",
    "version": 3
   },
   "file_extension": ".py",
   "mimetype": "text/x-python",
   "name": "python",
   "nbconvert_exporter": "python",
   "pygments_lexer": "ipython3",
   "version": "3.8.8"
  }
 },
 "nbformat": 4,
 "nbformat_minor": 5
}
