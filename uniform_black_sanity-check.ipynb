{
 "cells": [
  {
   "cell_type": "code",
   "execution_count": 1,
   "id": "867a495e-f995-4725-8086-d273ceee09dd",
   "metadata": {},
   "outputs": [],
   "source": [
    "import pandas as pd\n",
    "import blocksci\n",
    "import numpy as np\n",
    "import zarr\n",
    "import networkx as nx\n",
    "\n",
    "DIR_PARSED=\"/mnt/hdd_data/blockchain_parsed/\"\n",
    "cfg_file = f\"/mnt/hdd_data/blockchain_parsed/bitcoin.cfg\" # later\n",
    "chain = blocksci.Blockchain(cfg_file)"
   ]
  },
  {
   "cell_type": "code",
   "execution_count": 3,
   "id": "2ee6394c-8a61-472b-828d-d20dc7e29039",
   "metadata": {},
   "outputs": [
    {
     "name": "stdout",
     "output_type": "stream",
     "text": [
      "Block(tx_count=1, height=0, header_hash=000000000019d6689c085ae165831e934ff763ae46a2a6c172b3f1b60a8ce26f, version=1, timestamp=1231006505, bits=486604799, nonce=2083236893)\n",
      "Block(tx_count=1, height=1, header_hash=00000000839a8e6886ab5951d76f411475428afc90947ee320161bbf18eb6048, version=1, timestamp=1231469665, bits=486604799, nonce=2573394689)\n",
      "Block(tx_count=1, height=2, header_hash=000000006a625f06636b8bb6ac7b960a8d03705d1ace08b1a19da3fdcc99ddbd, version=1, timestamp=1231469744, bits=486604799, nonce=1639830024)\n",
      "Block(tx_count=1, height=3, header_hash=0000000082b5015589a3fdf2d4baff403e6f0be035a5d9742c1cae6295464449, version=1, timestamp=1231470173, bits=486604799, nonce=1844305925)\n",
      "Block(tx_count=1, height=4, header_hash=000000004ebadb55ee9096c9a2f8880e09da59c0d68b1c228da88e48844a1485, version=1, timestamp=1231470988, bits=486604799, nonce=2850094635)\n",
      "Block(tx_count=1, height=5, header_hash=000000009b7262315dbf071787ad3656097b892abffd1f95a1a022f896f533fc, version=1, timestamp=1231471428, bits=486604799, nonce=2011431709)\n",
      "Block(tx_count=1, height=6, header_hash=000000003031a0e73735690c5a1ff2a4be82553b2a12b776fbd3a215dc8f778d, version=1, timestamp=1231471789, bits=486604799, nonce=2538380312)\n",
      "Block(tx_count=1, height=7, header_hash=0000000071966c2b1d065fd446b1e485b2c9d9594acd2007ccbd5441cfc89444, version=1, timestamp=1231472369, bits=486604799, nonce=2258412857)\n",
      "Block(tx_count=1, height=8, header_hash=00000000408c48f847aa786c2268fc3e6ec2af68e8468a34a28c61b7f1de0dc6, version=1, timestamp=1231472743, bits=486604799, nonce=1716931356)\n",
      "Block(tx_count=1, height=9, header_hash=000000008d9dc510f23c2657fc4f67bea30078cc05a90eb89e84cc475c080805, version=1, timestamp=1231473279, bits=486604799, nonce=1397702696)\n",
      "Block(tx_count=1, height=10, header_hash=000000002c05cc2e78923c34df87fd108b22221ac6076c18f3ade378a4d915e9, version=1, timestamp=1231473952, bits=486604799, nonce=1709518110)\n",
      "Block(tx_count=1, height=11, header_hash=0000000097be56d606cdd9c54b04d4747e957d3608abe69198c661f2add73073, version=1, timestamp=1231474360, bits=486604799, nonce=4161222679)\n",
      "Block(tx_count=1, height=12, header_hash=0000000027c2488e2510d1acf4369787784fa20ee084c258b58d9fbd43802b5e, version=1, timestamp=1231474888, bits=486604799, nonce=208296255)\n",
      "Block(tx_count=1, height=13, header_hash=000000005c51de2031a895adc145ee2242e919a01c6d61fb222a54a54b4d3089, version=1, timestamp=1231475020, bits=486604799, nonce=2259603767)\n",
      "Block(tx_count=1, height=14, header_hash=0000000080f17a0c5a67f663a9bc9969eb37e81666d9321125f0e293656f8a37, version=1, timestamp=1231475589, bits=486604799, nonce=615369513)\n",
      "Block(tx_count=1, height=15, header_hash=00000000b3322c8c3ef7d2cf6da009a776e6a99ee65ec5a32f3f345712238473, version=1, timestamp=1231562746, bits=486604799, nonce=2566641720)\n",
      "Block(tx_count=1, height=16, header_hash=00000000174a25bb399b009cc8deff1c4b3ea84df7e93affaaf60dc3416cc4f5, version=1, timestamp=1231562758, bits=486604799, nonce=3591544324)\n",
      "Block(tx_count=1, height=17, header_hash=000000003ff1d0d70147acfbef5d6a87460ff5bcfce807c2d5b6f0a66bfdf809, version=1, timestamp=1231563791, bits=486604799, nonce=2474926087)\n",
      "Block(tx_count=1, height=18, header_hash=000000008693e98cf893e4c85a446b410bb4dfa129bd1be582c09ed3f0261116, version=1, timestamp=1231564334, bits=486604799, nonce=4064360242)\n",
      "Block(tx_count=1, height=19, header_hash=00000000841cb802ca97cf20fb9470480cae9e5daa5d06b4a18ae2d5dd7f186f, version=1, timestamp=1231564974, bits=486604799, nonce=766824726)\n",
      "Block(tx_count=1, height=20, header_hash=0000000067a97a2a37b8f190a17f0221e9c3f4fa824ddffdc2e205eae834c8d7, version=1, timestamp=1231565995, bits=486604799, nonce=1901123894)\n",
      "Block(tx_count=1, height=21, header_hash=000000006f016342d1275be946166cff975c8b27542de70a7113ac6d1ef3294f, version=1, timestamp=1231566553, bits=486604799, nonce=3592540203)\n",
      "Block(tx_count=1, height=22, header_hash=0000000098b58d427a10c860335a21c1a9a7639e96c3d6f1a03d8c8c885b5e3b, version=1, timestamp=1231567467, bits=486604799, nonce=1645155368)\n",
      "Block(tx_count=1, height=23, header_hash=000000000cd339982e556dfffa9de94744a4135c53eeef15b7bcc9bdeb9c2182, version=1, timestamp=1231567611, bits=486604799, nonce=1437882917)\n",
      "Block(tx_count=1, height=24, header_hash=00000000fc051fbbce89a487e811a5d4319d209785ea4f4b27fc83770d1e415f, version=1, timestamp=1231568277, bits=486604799, nonce=2969614887)\n",
      "Block(tx_count=1, height=25, header_hash=000000008e35a1d59ea1be8d76683662f47fd13c62a9e347ad5845a26f762026, version=1, timestamp=1231568646, bits=486604799, nonce=837891875)\n",
      "Block(tx_count=1, height=26, header_hash=0000000041438e52d25bccab8798a92cabafdaad69a071d3d2a41718faf01098, version=1, timestamp=1231570450, bits=486604799, nonce=1555516980)\n",
      "Block(tx_count=1, height=27, header_hash=0000000071350772f98f84babf35502b33d42ee8466d3dde0f376c4120352081, version=1, timestamp=1231570573, bits=486604799, nonce=3012316214)\n",
      "Block(tx_count=1, height=28, header_hash=00000000bb0d9430d3d1bab474be5050342161efcca9f7e45b151bff9a700944, version=1, timestamp=1231601457, bits=486604799, nonce=2396281646)\n",
      "Block(tx_count=1, height=29, header_hash=00000000c57a1b6351208c592eef8eff015d93c899a047fe35b35252a4a59bcb, version=1, timestamp=1231601503, bits=486604799, nonce=2688142130)\n",
      "Block(tx_count=1, height=30, header_hash=00000000bc919cfb64f62de736d55cf79e3d535b474ace256b4fbb56073f64db, version=1, timestamp=1231602122, bits=486604799, nonce=3893691144)\n",
      "Block(tx_count=1, height=31, header_hash=000000009700ff3494f215c412cd8c0ceabf1deb0df03ce39bcfc223b769d3c4, version=1, timestamp=1231602736, bits=486604799, nonce=716922133)\n",
      "Block(tx_count=1, height=32, header_hash=00000000e5cb7c6c273547b0c9421b01e23310ed83f934b96270f35a4d66f6e3, version=1, timestamp=1231603171, bits=486604799, nonce=230744328)\n",
      "Block(tx_count=1, height=33, header_hash=00000000a87073ea3d7af299e02a434598b9c92094afa552e0711afcc0857962, version=1, timestamp=1231603939, bits=486604799, nonce=1076005922)\n",
      "Block(tx_count=1, height=34, header_hash=00000000a73fb23b6c42b18b3253ed29c5d0c80d84624efa12c2cf05c4b4318f, version=1, timestamp=1231604338, bits=486604799, nonce=616579874)\n",
      "Block(tx_count=1, height=35, header_hash=00000000b572a465b4e816420d47a16274557b3573b7924b64808a82c7322d9b, version=1, timestamp=1231605153, bits=486604799, nonce=3890072084)\n",
      "Block(tx_count=1, height=36, header_hash=00000000f824d643f525b4904ea25c92174b8499435f388549a1700f4d3244de, version=1, timestamp=1231605789, bits=486604799, nonce=797229870)\n",
      "Block(tx_count=1, height=37, header_hash=00000000ddd96d128e122d1179034ff66c27dc583eb9e8996a0b1779c60c6f86, version=1, timestamp=1231606762, bits=486604799, nonce=2244623873)\n",
      "Block(tx_count=1, height=38, header_hash=000000007c19ee8e924d3024d58efff50f872aadf256140bb1e3d62fea4fd6dd, version=1, timestamp=1231607488, bits=486604799, nonce=3941073664)\n",
      "Block(tx_count=1, height=39, header_hash=000000005665d506f6c3ccb5fd98624f9816a8a169f1d2327d1d4d6d3262ad12, version=1, timestamp=1231607511, bits=486604799, nonce=1610743848)\n",
      "Block(tx_count=1, height=40, header_hash=00000000b2f01f399bf503e55f25a1aa51067056d2eb81915cb91976968b69aa, version=1, timestamp=1231608208, bits=486604799, nonce=1902584070)\n",
      "Block(tx_count=1, height=41, header_hash=00000000ad2b48c7032b6d7d4f2e19e54d79b1c159f5599056492f2cd7bb528b, version=1, timestamp=1231608903, bits=486604799, nonce=3522947079)\n",
      "Block(tx_count=1, height=42, header_hash=00000000314e90489514c787d615cea50003af2023796ccdd085b6bcc1fa28f5, version=1, timestamp=1231609153, bits=486604799, nonce=3600650283)\n",
      "Block(tx_count=1, height=43, header_hash=00000000ac21f2862aaab177fd3c5c8b395de842f84d88c9cf3420b2d393e550, version=1, timestamp=1231609477, bits=486604799, nonce=2093702200)\n",
      "Block(tx_count=1, height=44, header_hash=000000002978eecde8d020f7f057083bc990002fff495121d7dc1c26d00c00f8, version=1, timestamp=1231610361, bits=486604799, nonce=429798192)\n",
      "Block(tx_count=1, height=45, header_hash=000000009189006e461d2f4037a819d00217412ac01900ddbf09461100b836bb, version=1, timestamp=1231611068, bits=486604799, nonce=2771238433)\n",
      "Block(tx_count=1, height=46, header_hash=0000000002d5f429a2e3a9d9f82b777469696deb64038803c87833aa8ee9c08e, version=1, timestamp=1231611793, bits=486604799, nonce=1626117377)\n",
      "Block(tx_count=1, height=47, header_hash=000000001a5c4531f86aa874e711e1882038336e2610f70ce750cdd690c57a81, version=1, timestamp=1231612888, bits=486604799, nonce=2957174816)\n",
      "Block(tx_count=1, height=48, header_hash=0000000088960278f4060b8747027b2aac0eb443aedbb1b75d1a72cf71826e89, version=1, timestamp=1231613140, bits=486604799, nonce=3759171867)\n",
      "Block(tx_count=1, height=49, header_hash=00000000f067c09041ff0fcee3d91aeb7fbcc5654d3f766af2b4377aaee68d00, version=1, timestamp=1231613802, bits=486604799, nonce=3014810412)\n",
      "Block(tx_count=1, height=50, header_hash=0000000026f34d197f653c5e80cb805e40612eadb0f45d00d7ea4164a20faa33, version=1, timestamp=1231614698, bits=486604799, nonce=1028409902)\n",
      "Block(tx_count=1, height=51, header_hash=000000001c511e00d1e6825c912988a3695ab2758fdbb6c7ee58da1da4fb2d63, version=1, timestamp=1231615503, bits=486604799, nonce=528566281)\n",
      "Block(tx_count=1, height=52, header_hash=00000000d6c655f23e71b4210ae3c5d931d76257093ab1e5ced88c52739296b5, version=1, timestamp=1231616363, bits=486604799, nonce=4043808569)\n",
      "Block(tx_count=1, height=53, header_hash=00000000fcde3f3306f4167634b51e24414900d7539cb4237f3f060cf26fba05, version=1, timestamp=1231617190, bits=486604799, nonce=570791212)\n",
      "Block(tx_count=1, height=54, header_hash=000000004ee00fc37a68592cf22415b37e6618227249fe308d0703cca1dd745b, version=1, timestamp=1231617386, bits=486604799, nonce=3086212142)\n",
      "Block(tx_count=1, height=55, header_hash=0000000046438b8d5beb6c9efc503dfec538927d2584d2447538276e687a5283, version=1, timestamp=1231618509, bits=486604799, nonce=3277292827)\n",
      "Block(tx_count=1, height=56, header_hash=00000000f093cf2c5865f2bb851d5fa65ff1794b02fea4b0d90ff451e6e5d1c0, version=1, timestamp=1231618848, bits=486604799, nonce=1048211973)\n",
      "Block(tx_count=1, height=57, header_hash=000000004ff375707d7128dd2b080da4185727d534ea1b0aeac5877e00547391, version=1, timestamp=1231619676, bits=486604799, nonce=501022748)\n",
      "Block(tx_count=1, height=58, header_hash=0000000075b4df54f33c4e60cf88c5dd6a6455f16f4fbe220ae81e157ce32ef1, version=1, timestamp=1231620564, bits=486604799, nonce=303574814)\n",
      "Block(tx_count=1, height=59, header_hash=000000000f7171e53e5f037b70ae6a30d2fa6c1a9e019aa3dae242180baea54a, version=1, timestamp=1231620928, bits=486604799, nonce=1353976342)\n",
      "Block(tx_count=1, height=60, header_hash=00000000c47a58b89434bd7c7af8334b366f713330dfb89119d67d79424d2cdf, version=1, timestamp=1231621959, bits=486604799, nonce=576951554)\n",
      "Block(tx_count=1, height=61, header_hash=000000002973d6cb9371b8db0fe6a16a98dfac07c0aa9207c1cfc967b35290c4, version=1, timestamp=1231622445, bits=486604799, nonce=1399277111)\n",
      "Block(tx_count=1, height=62, header_hash=0000000042fe934de30881dcecc5af1c80b5a083030e37d71806e7fc1e8ca02a, version=1, timestamp=1231623224, bits=486604799, nonce=1810780677)\n",
      "Block(tx_count=1, height=63, header_hash=00000000ebff91c88984bff39511f544a1c4ef6ec4f33e2ea531e47c2685628e, version=1, timestamp=1231623880, bits=486604799, nonce=667804194)\n",
      "Block(tx_count=1, height=64, header_hash=0000000031975f17c5642a9c7e53ae4201a70a6ba6363036b55497b8754d1866, version=1, timestamp=1231624107, bits=486604799, nonce=82803279)\n",
      "Block(tx_count=1, height=65, header_hash=00000000aae47d47b6ff5eda6abab09cd6720684b1368eac70ac4240b3c90250, version=1, timestamp=1231624503, bits=486604799, nonce=3241330989)\n",
      "Block(tx_count=1, height=66, header_hash=0000000063d334becd1f17db9b6ccf570805caeed92d37d3d67b48e3685e760d, version=1, timestamp=1231625020, bits=486604799, nonce=2055099169)\n",
      "Block(tx_count=1, height=67, header_hash=00000000cd9c854b176413d6d344d6238426539fe1525b9a88a06e5d8a2df72b, version=1, timestamp=1231626072, bits=486604799, nonce=3252408872)\n",
      "Block(tx_count=1, height=68, header_hash=00000000bfafa874eff9ea7ec32c26499bd2580718daa33fb5dd7710db2c814c, version=1, timestamp=1231626618, bits=486604799, nonce=4035836948)\n",
      "Block(tx_count=1, height=69, header_hash=00000000ddaccd89104a83b0a28e1987a88d8f51829029cb7e18630e2575e939, version=1, timestamp=1231626979, bits=486604799, nonce=3006540568)\n",
      "Block(tx_count=1, height=70, header_hash=00000000ba63ae2eeb3d2371708291b90507c3317ef957f6fcba3811cc4fe0cc, version=1, timestamp=1231627646, bits=486604799, nonce=4209394234)\n",
      "Block(tx_count=1, height=71, header_hash=000000007f7cbc93a93141bb69eb7fbfad9c4682cc328da097dbcb2b77bd1457, version=1, timestamp=1231628459, bits=486604799, nonce=1190286374)\n",
      "Block(tx_count=1, height=72, header_hash=0000000082c0abb2875dc690a243dce6cbc856647b6422abbe82f97a3a7b127a, version=1, timestamp=1231629194, bits=486604799, nonce=3714618120)\n",
      "Block(tx_count=1, height=73, header_hash=000000008ec9525cb2092c6bd7d1c2580e595bcfa54bac51cf6f0278b242f25d, version=1, timestamp=1231630288, bits=486604799, nonce=3579880249)\n",
      "Block(tx_count=1, height=74, header_hash=00000000ec989ed4909499b92e9d3eb900d75dd1fab455315916e3d45924d456, version=1, timestamp=1231631189, bits=486604799, nonce=3926285097)\n",
      "Block(tx_count=1, height=75, header_hash=00000000be64a31bc9c3c29ddfd5e45c81b6db279fee45b3a11cd7945109e54e, version=1, timestamp=1231631822, bits=486604799, nonce=993509923)\n",
      "Block(tx_count=1, height=76, header_hash=000000005a512245f8e901241ce422afbd6b6f4c2d4bb582b763118614d57858, version=1, timestamp=1231632554, bits=486604799, nonce=3921374238)\n",
      "Block(tx_count=1, height=77, header_hash=00000000e7d28ee0e6238bd21775a007d5c4987967d2e99a527572dd30fa06ef, version=1, timestamp=1231633184, bits=486604799, nonce=322094626)\n",
      "Block(tx_count=1, height=78, header_hash=00000000a2886c95400fd3b263b9920af80b118b28fee5d2a162a18e4d9d8b2f, version=1, timestamp=1231635654, bits=486604799, nonce=483699940)\n",
      "Block(tx_count=1, height=79, header_hash=0000000086e318e8c348dad73199bb6fac8cc1effb9c872a7dda49c5caca0021, version=1, timestamp=1231645607, bits=486604799, nonce=2991488313)\n",
      "Block(tx_count=1, height=80, header_hash=00000000be62325a98e47d3306f275efe45d39d8cd5df28c795c96b8920ad48f, version=1, timestamp=1231646077, bits=486604799, nonce=320393266)\n",
      "Block(tx_count=1, height=81, header_hash=000000007d076a5289751e363ecb01604355730e69de270f04f79d969ff1cf86, version=1, timestamp=1231646456, bits=486604799, nonce=4017887024)\n",
      "Block(tx_count=1, height=82, header_hash=00000000162222fadd114245e16d25f6d02acbf67865575dc6f64b57634b5153, version=1, timestamp=1231647491, bits=486604799, nonce=2519696689)\n",
      "Block(tx_count=1, height=83, header_hash=00000000ca15c30122dc65c33e8ec1f7ff2631ef9e2a1c36d8a399ca1705122b, version=1, timestamp=1231648583, bits=486604799, nonce=2632256788)\n",
      "Block(tx_count=1, height=84, header_hash=0000000095f5ee67aaade1dfa150b7ae38b3ff068936c9c95a7bb114b6ce8d4f, version=1, timestamp=1231649497, bits=486604799, nonce=711533078)\n",
      "Block(tx_count=1, height=85, header_hash=00000000219949b3de1eae5447c00501812757885e65554fe5c51039ebe643d1, version=1, timestamp=1231650483, bits=486604799, nonce=3806652726)\n",
      "Block(tx_count=1, height=86, header_hash=00000000f1b3a6b39671e475b858bc6831db3ca57e8ecafa49a13c4d5b04fb53, version=1, timestamp=1231650986, bits=486604799, nonce=3625999133)\n",
      "Block(tx_count=1, height=87, header_hash=00000000a31b3785f0adc10975a4e3e356d133365c0aeab6e42240e17ac2e63c, version=1, timestamp=1231651888, bits=486604799, nonce=1947169835)\n",
      "Block(tx_count=1, height=88, header_hash=0000000011fd31ceefda804321c8e00d9870c15a5395f361f3b0c6908eb7d04b, version=1, timestamp=1231652408, bits=486604799, nonce=4172594200)\n",
      "Block(tx_count=1, height=89, header_hash=0000000076d9ec583c757b8911406afe4d021aed0e5f30c16e65c82a71af32c2, version=1, timestamp=1231653209, bits=486604799, nonce=3635332629)\n",
      "Block(tx_count=1, height=90, header_hash=00000000f365aa200968bb9808c3566d7d2465b4b3c93aa8a3cb9079f32cbb2f, version=1, timestamp=1231653550, bits=486604799, nonce=2639785492)\n",
      "Block(tx_count=1, height=91, header_hash=000000006e55c92b2a940de67b1314e150f0c72d0468c625f4f267fa30b8c1b1, version=1, timestamp=1231654229, bits=486604799, nonce=2047308033)\n",
      "Block(tx_count=1, height=92, header_hash=0000000009d40c0a46d368c2780dfcb0375b0fee9f0d8ad87b325ec8e451e1d2, version=1, timestamp=1231654561, bits=486604799, nonce=3542398981)\n",
      "Block(tx_count=1, height=93, header_hash=0000000069babcb34cc43c80e1c43d423a70821c740193a8265d3edc204ce4f0, version=1, timestamp=1231655037, bits=486604799, nonce=1695961607)\n",
      "Block(tx_count=1, height=94, header_hash=000000001fa8db1f15a9abd900cce0df7823a8397f2728b1d275e8fe0c0d2df0, version=1, timestamp=1231655581, bits=486604799, nonce=1923907113)\n",
      "Block(tx_count=1, height=95, header_hash=0000000021a406d58deeb398942e3c6cf956295fc11b192935c453c7d80be1ca, version=1, timestamp=1231656204, bits=486604799, nonce=2406994725)\n",
      "Block(tx_count=1, height=96, header_hash=00000000c21b38cebff4901eb0b6f4265b0adea665d8b63b5e3949e0bb923f06, version=1, timestamp=1231657185, bits=486604799, nonce=2019973671)\n",
      "Block(tx_count=1, height=97, header_hash=000000000ecab80b1bee41b0bff9514502d7d8c62bb842655da7b30008c891cc, version=1, timestamp=1231658068, bits=486604799, nonce=1751592481)\n",
      "Block(tx_count=1, height=98, header_hash=00000000a8ed5e960dccdf309f2ee2132badcc9247755c32a4b7081422d51899, version=1, timestamp=1231659133, bits=486604799, nonce=3395803954)\n",
      "Block(tx_count=1, height=99, header_hash=00000000cd9b12643e6854cb25939b39cd7a1ad0af31a9bd8b2efe67854b1995, version=1, timestamp=1231660146, bits=486604799, nonce=2500462385)\n"
     ]
    }
   ],
   "source": []
  },
  {
   "cell_type": "markdown",
   "id": "26d941e8-7160-4bdc-a501-59aa986c72b3",
   "metadata": {},
   "source": [
    "# scope\n",
    "this notebook goal is to replicate some results from `paint-it-black` as a sanity check.\n",
    "the original paper analysed form block 1 to block 400.000"
   ]
  },
  {
   "cell_type": "markdown",
   "id": "bf7674a7-7dab-416a-90fe-e1bf1d969d24",
   "metadata": {},
   "source": [
    "# 1: Number of addresses per darknet\n",
    "here we want to replicate table 1 from `pait-it-black`: \n",
    "measure the number of addresses for each entity"
   ]
  },
  {
   "cell_type": "code",
   "execution_count": 2,
   "id": "455032c9-773f-48df-9848-249eeef73962",
   "metadata": {},
   "outputs": [],
   "source": [
    "df = pd.read_csv(f\"/home/nvalla/paint-black/uniform_black/heur_2_data/ground_truth_clust_id.csv\")"
   ]
  },
  {
   "cell_type": "code",
   "execution_count": 3,
   "id": "e05bcb36-f039-4a13-809f-2c101973a01b",
   "metadata": {},
   "outputs": [],
   "source": [
    "entities_c = df['entity'].value_counts()"
   ]
  },
  {
   "cell_type": "code",
   "execution_count": 4,
   "id": "33ea95e9-d153-4c76-bac6-95d180c63f58",
   "metadata": {},
   "outputs": [
    {
     "name": "stdout",
     "output_type": "stream",
     "text": [
      "EvolutionMarket           419915\n",
      "SilkRoadMarketplace       372553\n",
      "SilkRoad2Market           349836\n",
      "AlphaBayMarket            196827\n",
      "NucleusMarket             146281\n",
      "AbraxasMarket             119065\n",
      "PandoraOpenMarket          55357\n",
      "SheepMarketplace           53639\n",
      "BlackBankMarket            50878\n",
      "MiddleEarthMarketplace     34049\n",
      "BlueSkyMarketplace         18897\n",
      "CannabisRoadMarket          2829\n",
      "BabylonMarket               1471\n",
      "GreenRoadMarket              965\n",
      "Name: entity, dtype: int64\n"
     ]
    }
   ],
   "source": [
    "print(entities_c)"
   ]
  },
  {
   "cell_type": "markdown",
   "id": "d114c5f3-b0ba-4d7c-9a61-1ed54e034118",
   "metadata": {},
   "source": [
    "The number of addresses per entity is close enough to table 1 from []."
   ]
  },
  {
   "cell_type": "markdown",
   "id": "96e5aad5-2387-48d1-b89e-972e001b3bbe",
   "metadata": {},
   "source": [
    "# 2: Number of input and output transactions per darkent\n",
    "here we replicate table 2 from `paint-it-black`:\n",
    "Table showing the number of transactions received\n",
    "and transactions sent from and to each of the 14 darknets."
   ]
  },
  {
   "cell_type": "code",
   "execution_count": 57,
   "id": "ec2f0097-a5d0-4cba-965f-ec79cbe719c1",
   "metadata": {},
   "outputs": [],
   "source": [
    "l = [(chain.address_from_string(a).input_txes_count(), chain.address_from_string(a).output_txes_count()) for a in df.address]"
   ]
  },
  {
   "cell_type": "markdown",
   "id": "6f144b44-b5e5-4b27-8e4e-b6aa23c7b2b7",
   "metadata": {},
   "source": [
    "_this method doesnt work: may be counting transactions more than once(if two different address are in the same transaction) per entity. Table 2 caption is not clear enough._"
   ]
  },
  {
   "cell_type": "code",
   "execution_count": 75,
   "id": "7a1fbb42-3c9b-4b57-a9f0-913042016947",
   "metadata": {},
   "outputs": [],
   "source": [
    "df[\"input_txes_count\"] = [a[0] for a in l]\n",
    "df[\"output_txes_count\"] = [a[1] for a in l]"
   ]
  },
  {
   "cell_type": "code",
   "execution_count": 78,
   "id": "99dbc1f7-5034-4de3-b036-470e6edea12f",
   "metadata": {},
   "outputs": [
    {
     "data": {
      "text/plain": [
       "entity\n",
       "AbraxasMarket             226328\n",
       "AlphaBayMarket            581732\n",
       "BabylonMarket               3025\n",
       "BlackBankMarket            85105\n",
       "BlueSkyMarketplace         41042\n",
       "CannabisRoadMarket          9218\n",
       "EvolutionMarket           459168\n",
       "GreenRoadMarket             1185\n",
       "MiddleEarthMarketplace    133699\n",
       "NucleusMarket             385200\n",
       "PandoraOpenMarket          99287\n",
       "SheepMarketplace           94351\n",
       "SilkRoad2Market           672344\n",
       "SilkRoadMarketplace       901900\n",
       "Name: input_txes_count, dtype: int64"
      ]
     },
     "execution_count": 78,
     "metadata": {},
     "output_type": "execute_result"
    }
   ],
   "source": [
    "df.groupby(['entity'])[\"input_txes_count\"].sum()"
   ]
  },
  {
   "cell_type": "code",
   "execution_count": 79,
   "id": "f12d54e3-76e3-492d-97dd-3cc127c42a2a",
   "metadata": {},
   "outputs": [
    {
     "data": {
      "text/plain": [
       "entity\n",
       "AbraxasMarket             228464\n",
       "AlphaBayMarket            586292\n",
       "BabylonMarket               3097\n",
       "BlackBankMarket            85775\n",
       "BlueSkyMarketplace         41356\n",
       "CannabisRoadMarket         12329\n",
       "EvolutionMarket           462436\n",
       "GreenRoadMarket             1360\n",
       "MiddleEarthMarketplace    134006\n",
       "NucleusMarket             416237\n",
       "PandoraOpenMarket         100258\n",
       "SheepMarketplace           95235\n",
       "SilkRoad2Market           684099\n",
       "SilkRoadMarketplace       915924\n",
       "Name: output_txes_count, dtype: int64"
      ]
     },
     "execution_count": 79,
     "metadata": {},
     "output_type": "execute_result"
    }
   ],
   "source": [
    "df.groupby(['entity'])[\"output_txes_count\"].sum()"
   ]
  },
  {
   "cell_type": "markdown",
   "id": "85024567-5e72-464c-8714-9ccbf29e35cc",
   "metadata": {},
   "source": [
    "# 3:\n",
    "table 3 from paint-it-black"
   ]
  },
  {
   "cell_type": "code",
   "execution_count": 2,
   "id": "4a3f9614-710e-42dc-bb34-14840b6a8611",
   "metadata": {},
   "outputs": [],
   "source": [
    "df1 = pd.read_csv(f\"/home/nvalla/paint-black/uniform_black/heur_1_data/ground_truth_clust_id.csv\")"
   ]
  },
  {
   "cell_type": "code",
   "execution_count": 21,
   "id": "30da5408-c007-42fe-9d60-9ab35f28efe7",
   "metadata": {},
   "outputs": [],
   "source": [
    "a = df1.groupby(['entity'])[\"cluster_id\"].nunique()"
   ]
  },
  {
   "cell_type": "code",
   "execution_count": 22,
   "id": "8ea7ca21-ed13-4162-b802-c6a4de179d0c",
   "metadata": {},
   "outputs": [
    {
     "data": {
      "text/plain": [
       "entity\n",
       "AbraxasMarket              81685\n",
       "AlphaBayMarket            117659\n",
       "BabylonMarket               1153\n",
       "BlackBankMarket            36022\n",
       "BlueSkyMarketplace         13336\n",
       "CannabisRoadMarket          2053\n",
       "EvolutionMarket           284173\n",
       "GreenRoadMarket              811\n",
       "MiddleEarthMarketplace     25733\n",
       "NucleusMarket             112226\n",
       "PandoraOpenMarket          39257\n",
       "SheepMarketplace           35125\n",
       "SilkRoad2Market           219536\n",
       "SilkRoadMarketplace       252664\n",
       "Name: cluster_id, dtype: int64"
      ]
     },
     "execution_count": 22,
     "metadata": {},
     "output_type": "execute_result"
    }
   ],
   "source": [
    "a"
   ]
  },
  {
   "cell_type": "markdown",
   "id": "33e30531-80e9-4e4e-be56-b242d4dfff80",
   "metadata": {},
   "source": [
    "# 4:\n",
    "table 4 from paint-it-black"
   ]
  },
  {
   "cell_type": "code",
   "execution_count": 26,
   "id": "e549d940-3ad7-4f4f-9b31-7f3989ba44e0",
   "metadata": {},
   "outputs": [],
   "source": [
    "df2 = pd.read_csv(f\"/home/nvalla/paint-black/uniform_black/heur_2_data/ground_truth_clust_id.csv\")"
   ]
  },
  {
   "cell_type": "code",
   "execution_count": 27,
   "id": "7a9d6549-a4b7-4323-8e76-c03c37e187fe",
   "metadata": {},
   "outputs": [],
   "source": [
    "b = df2.groupby(['entity'])[\"cluster_id\"].nunique()"
   ]
  },
  {
   "cell_type": "code",
   "execution_count": 28,
   "id": "7eb902d6-95c2-4ed1-9799-0a54d62628b3",
   "metadata": {},
   "outputs": [
    {
     "data": {
      "text/plain": [
       "entity\n",
       "AbraxasMarket              71421\n",
       "AlphaBayMarket            103288\n",
       "BabylonMarket                908\n",
       "BlackBankMarket            31255\n",
       "BlueSkyMarketplace         10640\n",
       "CannabisRoadMarket          1585\n",
       "EvolutionMarket           253379\n",
       "GreenRoadMarket              635\n",
       "MiddleEarthMarketplace     22508\n",
       "NucleusMarket              99026\n",
       "PandoraOpenMarket          33484\n",
       "SheepMarketplace           31154\n",
       "SilkRoad2Market           193932\n",
       "SilkRoadMarketplace       229203\n",
       "Name: cluster_id, dtype: int64"
      ]
     },
     "execution_count": 28,
     "metadata": {},
     "output_type": "execute_result"
    }
   ],
   "source": [
    "b"
   ]
  },
  {
   "cell_type": "markdown",
   "id": "a2c971bc-4eed-47b3-b7d5-42743bce984f",
   "metadata": {},
   "source": [
    "# number of clusters \n",
    "number of clusters black from the ground truth"
   ]
  },
  {
   "cell_type": "code",
   "execution_count": 2,
   "id": "0b71d1a6-e768-4083-bec6-a0668197a181",
   "metadata": {},
   "outputs": [
    {
     "name": "stdout",
     "output_type": "stream",
     "text": [
      "119\n"
     ]
    }
   ],
   "source": [
    "clust_is_black = zarr.load(\"uniform_black/heur_2_data/cluster_is_black_ground_truth.zarr\")\n",
    "print(clust_is_black.sum())"
   ]
  },
  {
   "cell_type": "code",
   "execution_count": 3,
   "id": "f2a050f3-4204-4022-a77a-a77f39a95b17",
   "metadata": {},
   "outputs": [],
   "source": [
    "clust_is_black_when = zarr.load(\"uniform_black/heur_2_data/cluster_is_black_final_day.zarr\")"
   ]
  },
  {
   "cell_type": "code",
   "execution_count": 2,
   "id": "c0d11c26-f8da-4845-92be-b183c947b377",
   "metadata": {},
   "outputs": [],
   "source": [
    "df = pd.read_csv(\"uniform_black/heur_2_data/diffusion_net_day.csv\")"
   ]
  },
  {
   "cell_type": "code",
   "execution_count": 7,
   "id": "6c06e710-74d8-4dd4-b6db-ba1161a5aa5f",
   "metadata": {},
   "outputs": [],
   "source": [
    "cm = blocksci.cluster.ClusterManager(DIR_PARSED + \"bitcoin/heur_2/\", chain)"
   ]
  },
  {
   "cell_type": "code",
   "execution_count": 24,
   "id": "ec1c7860-dc54-41e7-a8fd-ed70ce4abae7",
   "metadata": {},
   "outputs": [],
   "source": [
    "add = chain.address_from_string(\"17DEJSAMHsTtsxZA1v6yu51xVwtFJ5ECfp\")\n",
    "clu = cm.cluster_with_address(add)  # cluster index 5\n",
    "\n",
    "blocks = []\n",
    "for t in add.input_txes:\n",
    "    blocks.append(t.block_height)\n",
    "    \n",
    "b = chain.blocks[blocks[0]]\n",
    "print(b.time)\n",
    "date = '2015-08-26'"
   ]
  },
  {
   "cell_type": "code",
   "execution_count": 25,
   "id": "8678cace-b5d8-4670-9bc0-c61317596d54",
   "metadata": {},
   "outputs": [],
   "source": [
    "g = nx.read_graphml(f'{DIR_PARSED}bitcoin/heur_2_networks_day/{date}.graphml.bz2')"
   ]
  },
  {
   "cell_type": "code",
   "execution_count": 27,
   "id": "a28a57c5-d6c0-48dc-92eb-903ce07740ff",
   "metadata": {},
   "outputs": [
    {
     "data": {
      "text/plain": [
       "True"
      ]
     },
     "execution_count": 27,
     "metadata": {},
     "output_type": "execute_result"
    }
   ],
   "source": [
    "'5' in g.nodes"
   ]
  },
  {
   "cell_type": "code",
   "execution_count": 30,
   "id": "0936de1d-6f21-4704-b7e3-2f2e2c11ca89",
   "metadata": {},
   "outputs": [
    {
     "data": {
      "text/html": [
       "<div>\n",
       "<style scoped>\n",
       "    .dataframe tbody tr th:only-of-type {\n",
       "        vertical-align: middle;\n",
       "    }\n",
       "\n",
       "    .dataframe tbody tr th {\n",
       "        vertical-align: top;\n",
       "    }\n",
       "\n",
       "    .dataframe thead th {\n",
       "        text-align: right;\n",
       "    }\n",
       "</style>\n",
       "<table border=\"1\" class=\"dataframe\">\n",
       "  <thead>\n",
       "    <tr style=\"text-align: right;\">\n",
       "      <th></th>\n",
       "      <th>date</th>\n",
       "      <th>no_old_black_user</th>\n",
       "      <th>no_new_black_user</th>\n",
       "      <th>no_active_black_user</th>\n",
       "      <th>no_cum_black_user</th>\n",
       "      <th>black2new_no_trx</th>\n",
       "      <th>black2new_value</th>\n",
       "      <th>black2new_no_link</th>\n",
       "      <th>black2black_no_trx</th>\n",
       "      <th>black2black_value</th>\n",
       "      <th>black2black_no_link</th>\n",
       "      <th>not_black_link</th>\n",
       "    </tr>\n",
       "  </thead>\n",
       "  <tbody>\n",
       "    <tr>\n",
       "      <th>2426</th>\n",
       "      <td>2015-08-26</td>\n",
       "      <td>0</td>\n",
       "      <td>0</td>\n",
       "      <td>0</td>\n",
       "      <td>0</td>\n",
       "      <td>0</td>\n",
       "      <td>0</td>\n",
       "      <td>0</td>\n",
       "      <td>0</td>\n",
       "      <td>0</td>\n",
       "      <td>0</td>\n",
       "      <td>170794</td>\n",
       "    </tr>\n",
       "  </tbody>\n",
       "</table>\n",
       "</div>"
      ],
      "text/plain": [
       "            date  no_old_black_user  no_new_black_user  no_active_black_user  \\\n",
       "2426  2015-08-26                  0                  0                     0   \n",
       "\n",
       "      no_cum_black_user  black2new_no_trx  black2new_value  black2new_no_link  \\\n",
       "2426                  0                 0                0                  0   \n",
       "\n",
       "      black2black_no_trx  black2black_value  black2black_no_link  \\\n",
       "2426                   0                  0                    0   \n",
       "\n",
       "      not_black_link  \n",
       "2426          170794  "
      ]
     },
     "execution_count": 30,
     "metadata": {},
     "output_type": "execute_result"
    }
   ],
   "source": [
    "df.loc[df.date == date]"
   ]
  },
  {
   "cell_type": "markdown",
   "id": "34aced6d-8ac6-43ed-ba53-0e9cb268c11a",
   "metadata": {},
   "source": [
    "# simulate ub_diffusion_net on one day network"
   ]
  },
  {
   "cell_type": "code",
   "execution_count": null,
   "id": "8be7fe19-0113-482f-b058-b3c5cef3f7e4",
   "metadata": {},
   "outputs": [],
   "source": [
    "g = nx.read_graphml(f'{DIR_PARSED}bitcoin/heur_2_networks_day/{date}.graphml.bz2')"
   ]
  },
  {
   "cell_type": "code",
   "execution_count": 54,
   "id": "a33e6ceb-8572-4e46-a5c2-753806d69b90",
   "metadata": {},
   "outputs": [],
   "source": [
    "clust_is_black_ground = zarr.load(f\"uniform_black/heur_2_data/cluster_is_black_ground_truth.zarr\")\n",
    "clust_is_black_ground_set = set([str(i) for i in range(len(clust_is_black_ground)) if clust_is_black_ground[i]])"
   ]
  },
  {
   "cell_type": "code",
   "execution_count": 75,
   "id": "61f57923-d55b-483a-9158-32f151d3481e",
   "metadata": {},
   "outputs": [
    {
     "name": "stdout",
     "output_type": "stream",
     "text": [
      "{'5'}\n"
     ]
    }
   ],
   "source": [
    "new_black_nodes = set([])\n",
    "old_black_nodes = clust_is_black_ground_set.intersection(g.nodes)\n",
    "print(old_black_nodes)\n",
    "clust_is_black_when = np.zeros(len(clust_is_black_ground), dtype=str)\n",
    "\n",
    "black2new_no_trx = 0\n",
    "black2new_value = 0\n",
    "black2new_link = 0\n",
    "black2black_no_trx = 0\n",
    "black2black_value = 0\n",
    "black2black_link = 0\n",
    "\n",
    "s = 0\n",
    "for black_node in old_black_nodes:\n",
    "    # check out-neighbours of black node\n",
    "    for e in g[black_node]:\n",
    "        # if not already black, track it\n",
    "        if e not in old_black_nodes:\n",
    "            new_black_nodes.update([e])\n",
    "            black2new_no_trx += g[black_node][e]['n_tx']\n",
    "            black2new_value += g[black_node][e]['value']\n",
    "            black2new_link += 1\n",
    "        else:\n",
    "            black2black_no_trx += g[black_node][e]['n_tx']\n",
    "            black2black_value += g[black_node][e]['value']\n",
    "            black2black_link += 1\n",
    "        if clust_is_black_when[int(e)] == '':\n",
    "            clust_is_black_when[int(e)] = date\n",
    "            s +=1\n"
   ]
  },
  {
   "cell_type": "code",
   "execution_count": 76,
   "id": "bfb7921c-d41e-45a3-ade4-7154580e9afd",
   "metadata": {},
   "outputs": [
    {
     "name": "stdout",
     "output_type": "stream",
     "text": [
      "26028\n"
     ]
    },
    {
     "data": {
      "text/plain": [
       "26028"
      ]
     },
     "execution_count": 76,
     "metadata": {},
     "output_type": "execute_result"
    }
   ],
   "source": [
    "print(s)\n",
    "np.count_nonzero(clust_is_black_when)"
   ]
  }
 ],
 "metadata": {
  "kernelspec": {
   "display_name": "Python 3",
   "language": "python",
   "name": "python3"
  },
  "language_info": {
   "codemirror_mode": {
    "name": "ipython",
    "version": 3
   },
   "file_extension": ".py",
   "mimetype": "text/x-python",
   "name": "python",
   "nbconvert_exporter": "python",
   "pygments_lexer": "ipython3",
   "version": "3.8.8"
  }
 },
 "nbformat": 4,
 "nbformat_minor": 5
}
