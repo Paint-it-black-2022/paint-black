{
 "cells": [
  {
   "cell_type": "code",
   "execution_count": 4,
   "id": "867a495e-f995-4725-8086-d273ceee09dd",
   "metadata": {},
   "outputs": [],
   "source": [
    "import pandas as pd\n",
    "\n",
    "DIR_PARSED=\"/mnt/hdd_data/blockchain_parsed/\"\n",
    "cfg_file = f\"/mnt/hdd_data/blockchain_parsed/bitcoin.cfg\" # later\n",
    "chain = blocksci.Blockchain(cfg_file)"
   ]
  },
  {
   "cell_type": "markdown",
   "id": "bf7674a7-7dab-416a-90fe-e1bf1d969d24",
   "metadata": {},
   "source": [
    "# Number of addresses per darknet"
   ]
  },
  {
   "cell_type": "code",
   "execution_count": 25,
   "id": "0e56aef8-c84d-4a2d-ac9d-0b63fe92d9ad",
   "metadata": {},
   "outputs": [
    {
     "name": "stdout",
     "output_type": "stream",
     "text": [
      "EvolutionMarket           419915\n",
      "SilkRoadMarketplace       372553\n",
      "SilkRoad2Market           349836\n",
      "AlphaBayMarket            196827\n",
      "NucleusMarket             146281\n",
      "AbraxasMarket             119065\n",
      "PandoraOpenMarket          55357\n",
      "SheepMarketplace           53639\n",
      "BlackBankMarket            50878\n",
      "MiddleEarthMarketplace     34049\n",
      "BlueSkyMarketplace         18897\n",
      "CannabisRoadMarket          2829\n",
      "BabylonMarket               1471\n",
      "GreenRoadMarket              965\n",
      "Name: entity, dtype: int64\n"
     ]
    }
   ],
   "source": [
    "df = pd.read_csv(f\"{DIR_PARSED}/bitcoin_darknet/ground_truth_id.csv\")\n",
    "\n",
    "entities_c = df['entity'].value_counts()\n",
    "\n",
    "darknet = [\n",
    "    'EvolutionMarket',\n",
    "    'SilkRoadMarketplace',\n",
    "    'SilkRoad2Market',\n",
    "    'AlphaBayMarket',\n",
    "    'NucleusMarket',\n",
    "    'AbraxasMarket',\n",
    "    'PandoraOpenMarket',\n",
    "    'SheepMarketplace',\n",
    "    'BlackBankMarket',\n",
    "    'MiddleEarthMarketplace',\n",
    "    'BlueSkyMarketplace',\n",
    "    'CannabisRoadMarket',\n",
    "    'BabylonMarket',\n",
    "    'GreenRoadMarket'\n",
    "]\n",
    "\n",
    "print(entities_c[darknet])"
   ]
  },
  {
   "cell_type": "markdown",
   "id": "d114c5f3-b0ba-4d7c-9a61-1ed54e034118",
   "metadata": {},
   "source": [
    "The number of addresses per entity is close enough to table 1 from []."
   ]
  },
  {
   "cell_type": "code",
   "execution_count": null,
   "id": "9088e1cb-cfb0-4d12-90f8-a3c9f3367a3f",
   "metadata": {},
   "outputs": [],
   "source": []
  }
 ],
 "metadata": {
  "kernelspec": {
   "display_name": "Python 3",
   "language": "python",
   "name": "python3"
  },
  "language_info": {
   "codemirror_mode": {
    "name": "ipython",
    "version": 3
   },
   "file_extension": ".py",
   "mimetype": "text/x-python",
   "name": "python",
   "nbconvert_exporter": "python",
   "pygments_lexer": "ipython3",
   "version": "3.8.8"
  }
 },
 "nbformat": 4,
 "nbformat_minor": 5
}
